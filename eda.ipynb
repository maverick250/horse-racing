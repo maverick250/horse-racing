{
 "cells": [
  {
   "cell_type": "markdown",
   "metadata": {},
   "source": [
    "### Import necessary libraries"
   ]
  },
  {
   "cell_type": "code",
   "execution_count": 1,
   "metadata": {},
   "outputs": [],
   "source": [
    "import pandas as pd\n",
    "import numpy as np\n",
    "import matplotlib.pyplot as plt\n",
    "import seaborn as sns"
   ]
  },
  {
   "cell_type": "markdown",
   "metadata": {},
   "source": [
    "### Load datasets"
   ]
  },
  {
   "cell_type": "code",
   "execution_count": 2,
   "metadata": {},
   "outputs": [],
   "source": [
    "# Load race_results\n",
    "race_results = pd.read_csv('./data/race_results_20240101_20240131.csv')\n",
    "\n",
    "# Load race_details\n",
    "race_details = pd.read_csv('./data/race_details_20240101_20240131.csv')"
   ]
  },
  {
   "cell_type": "markdown",
   "metadata": {},
   "source": [
    "### Display race details"
   ]
  },
  {
   "cell_type": "code",
   "execution_count": 3,
   "metadata": {},
   "outputs": [
    {
     "data": {
      "text/html": [
       "<div>\n",
       "<style scoped>\n",
       "    .dataframe tbody tr th:only-of-type {\n",
       "        vertical-align: middle;\n",
       "    }\n",
       "\n",
       "    .dataframe tbody tr th {\n",
       "        vertical-align: top;\n",
       "    }\n",
       "\n",
       "    .dataframe thead th {\n",
       "        text-align: right;\n",
       "    }\n",
       "</style>\n",
       "<table border=\"1\" class=\"dataframe\">\n",
       "  <thead>\n",
       "    <tr style=\"text-align: right;\">\n",
       "      <th></th>\n",
       "      <th>race_date</th>\n",
       "      <th>race_city</th>\n",
       "      <th>race_no</th>\n",
       "      <th>race_type</th>\n",
       "      <th>race_sex_group</th>\n",
       "      <th>race_age_group</th>\n",
       "      <th>race_race_group</th>\n",
       "      <th>race_length</th>\n",
       "      <th>race_track_type</th>\n",
       "      <th>race_track_condition</th>\n",
       "      <th>best_rating</th>\n",
       "    </tr>\n",
       "  </thead>\n",
       "  <tbody>\n",
       "    <tr>\n",
       "      <th>0</th>\n",
       "      <td>2024-01-01</td>\n",
       "      <td>Bursa</td>\n",
       "      <td>1</td>\n",
       "      <td>Condition 2</td>\n",
       "      <td>Undefined</td>\n",
       "      <td>3 Years Old</td>\n",
       "      <td>English</td>\n",
       "      <td>1400</td>\n",
       "      <td>Dirt</td>\n",
       "      <td>Good Going</td>\n",
       "      <td>1.24.50</td>\n",
       "    </tr>\n",
       "    <tr>\n",
       "      <th>1</th>\n",
       "      <td>2024-01-01</td>\n",
       "      <td>Bursa</td>\n",
       "      <td>2</td>\n",
       "      <td>Maiden</td>\n",
       "      <td>Undefined</td>\n",
       "      <td>4 Years Old</td>\n",
       "      <td>Arabian</td>\n",
       "      <td>1400</td>\n",
       "      <td>Dirt</td>\n",
       "      <td>Good Going</td>\n",
       "      <td>1.33.63</td>\n",
       "    </tr>\n",
       "    <tr>\n",
       "      <th>2</th>\n",
       "      <td>2024-01-01</td>\n",
       "      <td>Bursa</td>\n",
       "      <td>3</td>\n",
       "      <td>Condition 3</td>\n",
       "      <td>Female</td>\n",
       "      <td>3 Years Old</td>\n",
       "      <td>English</td>\n",
       "      <td>1200</td>\n",
       "      <td>Dirt</td>\n",
       "      <td>Good Going</td>\n",
       "      <td>1.11.37</td>\n",
       "    </tr>\n",
       "    <tr>\n",
       "      <th>3</th>\n",
       "      <td>2024-01-01</td>\n",
       "      <td>Bursa</td>\n",
       "      <td>4</td>\n",
       "      <td>Condition 4</td>\n",
       "      <td>Undefined</td>\n",
       "      <td>4 Years Old and Up</td>\n",
       "      <td>Arabian</td>\n",
       "      <td>2000</td>\n",
       "      <td>Dirt</td>\n",
       "      <td>Good Going</td>\n",
       "      <td>2.18.40</td>\n",
       "    </tr>\n",
       "    <tr>\n",
       "      <th>4</th>\n",
       "      <td>2024-01-01</td>\n",
       "      <td>Bursa</td>\n",
       "      <td>5</td>\n",
       "      <td>Handicap 15</td>\n",
       "      <td>Undefined</td>\n",
       "      <td>4 Years Old and Up</td>\n",
       "      <td>English</td>\n",
       "      <td>1300</td>\n",
       "      <td>Dirt</td>\n",
       "      <td>Good Going</td>\n",
       "      <td>1.18.11</td>\n",
       "    </tr>\n",
       "    <tr>\n",
       "      <th>5</th>\n",
       "      <td>2024-01-01</td>\n",
       "      <td>Bursa</td>\n",
       "      <td>6</td>\n",
       "      <td>Condition 3</td>\n",
       "      <td>Undefined</td>\n",
       "      <td>4 Years Old and Up</td>\n",
       "      <td>English</td>\n",
       "      <td>1400</td>\n",
       "      <td>Dirt</td>\n",
       "      <td>Good Going</td>\n",
       "      <td>1.24.50</td>\n",
       "    </tr>\n",
       "    <tr>\n",
       "      <th>6</th>\n",
       "      <td>2024-01-01</td>\n",
       "      <td>Bursa</td>\n",
       "      <td>7</td>\n",
       "      <td>Maiden</td>\n",
       "      <td>Undefined</td>\n",
       "      <td>4 Years Old</td>\n",
       "      <td>Arabian</td>\n",
       "      <td>1400</td>\n",
       "      <td>Dirt</td>\n",
       "      <td>Good Going</td>\n",
       "      <td>1.33.63</td>\n",
       "    </tr>\n",
       "    <tr>\n",
       "      <th>7</th>\n",
       "      <td>2024-01-01</td>\n",
       "      <td>Bursa</td>\n",
       "      <td>8</td>\n",
       "      <td>Condition-6</td>\n",
       "      <td>Female</td>\n",
       "      <td>4 Years Old and Up</td>\n",
       "      <td>English</td>\n",
       "      <td>1300</td>\n",
       "      <td>Dirt</td>\n",
       "      <td>Good Going</td>\n",
       "      <td>1.18.11</td>\n",
       "    </tr>\n",
       "    <tr>\n",
       "      <th>8</th>\n",
       "      <td>2024-01-01</td>\n",
       "      <td>Bursa</td>\n",
       "      <td>9</td>\n",
       "      <td>Handicap 14</td>\n",
       "      <td>Female</td>\n",
       "      <td>4 Years Old and Up</td>\n",
       "      <td>Arabian</td>\n",
       "      <td>1800</td>\n",
       "      <td>Dirt</td>\n",
       "      <td>Good Going</td>\n",
       "      <td>2.03.83</td>\n",
       "    </tr>\n",
       "    <tr>\n",
       "      <th>9</th>\n",
       "      <td>2024-01-02</td>\n",
       "      <td>Adana</td>\n",
       "      <td>1</td>\n",
       "      <td>Condition 5</td>\n",
       "      <td>Female</td>\n",
       "      <td>4 Years Old</td>\n",
       "      <td>Arabian</td>\n",
       "      <td>1400</td>\n",
       "      <td>Dirt</td>\n",
       "      <td>Good Going</td>\n",
       "      <td>1.34.68</td>\n",
       "    </tr>\n",
       "  </tbody>\n",
       "</table>\n",
       "</div>"
      ],
      "text/plain": [
       "    race_date race_city  race_no    race_type race_sex_group  \\\n",
       "0  2024-01-01     Bursa        1  Condition 2      Undefined   \n",
       "1  2024-01-01     Bursa        2       Maiden      Undefined   \n",
       "2  2024-01-01     Bursa        3  Condition 3         Female   \n",
       "3  2024-01-01     Bursa        4  Condition 4      Undefined   \n",
       "4  2024-01-01     Bursa        5  Handicap 15      Undefined   \n",
       "5  2024-01-01     Bursa        6  Condition 3      Undefined   \n",
       "6  2024-01-01     Bursa        7       Maiden      Undefined   \n",
       "7  2024-01-01     Bursa        8  Condition-6         Female   \n",
       "8  2024-01-01     Bursa        9  Handicap 14         Female   \n",
       "9  2024-01-02     Adana        1  Condition 5         Female   \n",
       "\n",
       "       race_age_group race_race_group  race_length race_track_type  \\\n",
       "0         3 Years Old         English         1400            Dirt   \n",
       "1         4 Years Old         Arabian         1400            Dirt   \n",
       "2         3 Years Old         English         1200            Dirt   \n",
       "3  4 Years Old and Up         Arabian         2000            Dirt   \n",
       "4  4 Years Old and Up         English         1300            Dirt   \n",
       "5  4 Years Old and Up         English         1400            Dirt   \n",
       "6         4 Years Old         Arabian         1400            Dirt   \n",
       "7  4 Years Old and Up         English         1300            Dirt   \n",
       "8  4 Years Old and Up         Arabian         1800            Dirt   \n",
       "9         4 Years Old         Arabian         1400            Dirt   \n",
       "\n",
       "  race_track_condition best_rating  \n",
       "0           Good Going     1.24.50  \n",
       "1           Good Going     1.33.63  \n",
       "2           Good Going     1.11.37  \n",
       "3           Good Going     2.18.40  \n",
       "4           Good Going     1.18.11  \n",
       "5           Good Going     1.24.50  \n",
       "6           Good Going     1.33.63  \n",
       "7           Good Going     1.18.11  \n",
       "8           Good Going     2.03.83  \n",
       "9           Good Going     1.34.68  "
      ]
     },
     "execution_count": 3,
     "metadata": {},
     "output_type": "execute_result"
    }
   ],
   "source": [
    "race_details.head(10)"
   ]
  },
  {
   "cell_type": "code",
   "execution_count": 4,
   "metadata": {},
   "outputs": [
    {
     "name": "stdout",
     "output_type": "stream",
     "text": [
      "Race Details Shape: (480, 11)\n"
     ]
    }
   ],
   "source": [
    "print(f\"Race Details Shape: {race_details.shape}\")"
   ]
  },
  {
   "cell_type": "code",
   "execution_count": 5,
   "metadata": {},
   "outputs": [
    {
     "name": "stdout",
     "output_type": "stream",
     "text": [
      "\n",
      "Race Details Info:\n",
      "<class 'pandas.core.frame.DataFrame'>\n",
      "RangeIndex: 480 entries, 0 to 479\n",
      "Data columns (total 11 columns):\n",
      " #   Column                Non-Null Count  Dtype \n",
      "---  ------                --------------  ----- \n",
      " 0   race_date             480 non-null    object\n",
      " 1   race_city             480 non-null    object\n",
      " 2   race_no               480 non-null    int64 \n",
      " 3   race_type             480 non-null    object\n",
      " 4   race_sex_group        480 non-null    object\n",
      " 5   race_age_group        480 non-null    object\n",
      " 6   race_race_group       480 non-null    object\n",
      " 7   race_length           480 non-null    int64 \n",
      " 8   race_track_type       480 non-null    object\n",
      " 9   race_track_condition  480 non-null    object\n",
      " 10  best_rating           480 non-null    object\n",
      "dtypes: int64(2), object(9)\n",
      "memory usage: 41.4+ KB\n",
      "None\n"
     ]
    }
   ],
   "source": [
    "# Race Details Info\n",
    "print(\"\\nRace Details Info:\")\n",
    "print(race_details.info())"
   ]
  },
  {
   "cell_type": "code",
   "execution_count": 6,
   "metadata": {},
   "outputs": [
    {
     "name": "stdout",
     "output_type": "stream",
     "text": [
      "\n",
      "After converting 'race_date' to datetime:\n",
      "<class 'pandas.core.frame.DataFrame'>\n",
      "RangeIndex: 480 entries, 0 to 479\n",
      "Data columns (total 11 columns):\n",
      " #   Column                Non-Null Count  Dtype         \n",
      "---  ------                --------------  -----         \n",
      " 0   race_date             480 non-null    datetime64[ns]\n",
      " 1   race_city             480 non-null    object        \n",
      " 2   race_no               480 non-null    int64         \n",
      " 3   race_type             480 non-null    object        \n",
      " 4   race_sex_group        480 non-null    object        \n",
      " 5   race_age_group        480 non-null    object        \n",
      " 6   race_race_group       480 non-null    object        \n",
      " 7   race_length           480 non-null    int64         \n",
      " 8   race_track_type       480 non-null    object        \n",
      " 9   race_track_condition  480 non-null    object        \n",
      " 10  best_rating           480 non-null    object        \n",
      "dtypes: datetime64[ns](1), int64(2), object(8)\n",
      "memory usage: 41.4+ KB\n",
      "None\n"
     ]
    }
   ],
   "source": [
    "# Convert 'race_date' to datetime\n",
    "race_details['race_date'] = pd.to_datetime(race_details['race_date'], format='%Y-%m-%d')\n",
    "print(\"\\nAfter converting 'race_date' to datetime:\")\n",
    "print(race_details.info())"
   ]
  },
  {
   "cell_type": "markdown",
   "metadata": {},
   "source": [
    "### Convert Time Strings to Seconds"
   ]
  },
  {
   "cell_type": "code",
   "execution_count": 7,
   "metadata": {},
   "outputs": [
    {
     "name": "stdout",
     "output_type": "stream",
     "text": [
      "\n",
      "Number of NaN values in 'best_rating_seconds': 0\n",
      "\n",
      "Sample of converted 'best_rating_seconds':\n",
      "  best_rating  best_rating_seconds\n",
      "0     1.24.50                84.50\n",
      "1     1.33.63                93.63\n",
      "2     1.11.37                71.37\n",
      "3     2.18.40               138.40\n",
      "4     1.18.11                78.11\n",
      "5     1.24.50                84.50\n",
      "6     1.33.63                93.63\n",
      "7     1.18.11                78.11\n",
      "8     2.03.83               123.83\n",
      "9     1.34.68                94.68\n",
      "\n",
      "<class 'pandas.core.frame.DataFrame'>\n",
      "RangeIndex: 480 entries, 0 to 479\n",
      "Data columns (total 12 columns):\n",
      " #   Column                Non-Null Count  Dtype         \n",
      "---  ------                --------------  -----         \n",
      " 0   race_date             480 non-null    datetime64[ns]\n",
      " 1   race_city             480 non-null    object        \n",
      " 2   race_no               480 non-null    int64         \n",
      " 3   race_type             480 non-null    object        \n",
      " 4   race_sex_group        480 non-null    object        \n",
      " 5   race_age_group        480 non-null    object        \n",
      " 6   race_race_group       480 non-null    object        \n",
      " 7   race_length           480 non-null    int64         \n",
      " 8   race_track_type       480 non-null    object        \n",
      " 9   race_track_condition  480 non-null    object        \n",
      " 10  best_rating           480 non-null    object        \n",
      " 11  best_rating_seconds   480 non-null    float64       \n",
      "dtypes: datetime64[ns](1), float64(1), int64(2), object(8)\n",
      "memory usage: 45.1+ KB\n",
      "None\n"
     ]
    }
   ],
   "source": [
    "def time_to_seconds(time_str):\n",
    "    try:\n",
    "        minutes, seconds, hundredths = map(int, time_str.split('.'))\n",
    "        total_seconds = minutes * 60 + seconds + hundredths / 100\n",
    "        return total_seconds\n",
    "    except:\n",
    "        return np.nan  # In case of unexpected format\n",
    "\n",
    "# Apply the conversion\n",
    "race_details['best_rating_seconds'] = race_details['best_rating'].apply(time_to_seconds)\n",
    "\n",
    "# Check for any NaN values introduced due to parsing errors\n",
    "print(\"\\nNumber of NaN values in 'best_rating_seconds':\", race_details['best_rating_seconds'].isnull().sum())\n",
    "\n",
    "print(\"\\nSample of converted 'best_rating_seconds':\")\n",
    "print(race_details[['best_rating', 'best_rating_seconds']].head(10))\n",
    "print('')\n",
    "print(race_details.info())"
   ]
  },
  {
   "cell_type": "code",
   "execution_count": 8,
   "metadata": {},
   "outputs": [
    {
     "name": "stdout",
     "output_type": "stream",
     "text": [
      "\n",
      "Sample of standardized categorical columns:\n",
      "  race_city    race_type race_sex_group      race_age_group race_race_group  \\\n",
      "0     bursa  condition 2      undefined         3 years old         english   \n",
      "1     bursa       maiden      undefined         4 years old         arabian   \n",
      "2     bursa  condition 3         female         3 years old         english   \n",
      "3     bursa  condition 4      undefined  4 years old and up         arabian   \n",
      "4     bursa  handicap 15      undefined  4 years old and up         english   \n",
      "5     bursa  condition 3      undefined  4 years old and up         english   \n",
      "6     bursa       maiden      undefined         4 years old         arabian   \n",
      "7     bursa  condition-6         female  4 years old and up         english   \n",
      "8     bursa  handicap 14         female  4 years old and up         arabian   \n",
      "9     adana  condition 5         female         4 years old         arabian   \n",
      "\n",
      "  race_track_type race_track_condition  \n",
      "0            dirt           good going  \n",
      "1            dirt           good going  \n",
      "2            dirt           good going  \n",
      "3            dirt           good going  \n",
      "4            dirt           good going  \n",
      "5            dirt           good going  \n",
      "6            dirt           good going  \n",
      "7            dirt           good going  \n",
      "8            dirt           good going  \n",
      "9            dirt           good going  \n"
     ]
    }
   ],
   "source": [
    "# List of categorical columns to standardize\n",
    "categorical_cols = [\n",
    "    'race_city',\n",
    "    'race_type',\n",
    "    'race_sex_group',\n",
    "    'race_age_group',\n",
    "    'race_race_group',\n",
    "    'race_track_type',\n",
    "    'race_track_condition'\n",
    "]\n",
    "\n",
    "# Apply standardization\n",
    "for col in categorical_cols:\n",
    "    race_details[col] = race_details[col].str.strip().str.lower()\n",
    "\n",
    "print(\"\\nSample of standardized categorical columns:\")\n",
    "print(race_details[categorical_cols].head(10))"
   ]
  },
  {
   "cell_type": "code",
   "execution_count": 9,
   "metadata": {},
   "outputs": [
    {
     "data": {
      "text/plain": [
       "<Figure size 1500x1000 with 0 Axes>"
      ]
     },
     "metadata": {},
     "output_type": "display_data"
    },
    {
     "data": {
      "image/png": "[encoded data removed]",
      "text/plain": [
       "<Figure size 1000x500 with 1 Axes>"
      ]
     },
     "metadata": {},
     "output_type": "display_data"
    },
    {
     "data": {
      "image/png": "[encoded data removed]",
      "text/plain": [
       "<Figure size 1000x500 with 1 Axes>"
      ]
     },
     "metadata": {},
     "output_type": "display_data"
    },
    {
     "data": {
      "image/png": "[encoded data removed]",
      "text/plain": [
       "<Figure size 1000x500 with 1 Axes>"
      ]
     },
     "metadata": {},
     "output_type": "display_data"
    },
    {
     "data": {
      "image/png": "[encoded data removed]",
      "text/plain": [
       "<Figure size 1000x500 with 1 Axes>"
      ]
     },
     "metadata": {},
     "output_type": "display_data"
    },
    {
     "data": {
      "image/png": "[encoded data removed]",
      "text/plain": [
       "<Figure size 1000x500 with 1 Axes>"
      ]
     },
     "metadata": {},
     "output_type": "display_data"
    },
    {
     "data": {
      "image/png": "[encoded data removed]",
      "text/plain": [
       "<Figure size 1000x500 with 1 Axes>"
      ]
     },
     "metadata": {},
     "output_type": "display_data"
    },
    {
     "data": {
      "image/png": "[encoded data removed]",
      "text/plain": [
       "<Figure size 1000x500 with 1 Axes>"
      ]
     },
     "metadata": {},
     "output_type": "display_data"
    }
   ],
   "source": [
    "# Set a larger figure size\n",
    "plt.figure(figsize=(15, 10))\n",
    "\n",
    "# Loop over each categorical column and visualize its distribution\n",
    "for col in categorical_cols:\n",
    "    plt.figure(figsize=(10, 5))\n",
    "    sns.countplot(data=race_details, x=col)\n",
    "    plt.title(f'Distribution of {col}')\n",
    "    plt.xticks(rotation=45, ha=\"right\")\n",
    "    plt.show()"
   ]
  },
  {
   "cell_type": "code",
   "execution_count": null,
   "metadata": {},
   "outputs": [],
   "source": []
  },
  {
   "cell_type": "code",
   "execution_count": 10,
   "metadata": {},
   "outputs": [
    {
     "name": "stdout",
     "output_type": "stream",
     "text": [
      "\n",
      "Race Details - Numeric Features Summary:\n",
      "                           race_date     race_no  race_length  \\\n",
      "count                            480  480.000000   480.000000   \n",
      "mean   2024-01-16 12:51:00.000000256    4.570833  1553.125000   \n",
      "min              2024-01-01 00:00:00    1.000000  1200.000000   \n",
      "25%              2024-01-09 00:00:00    2.750000  1400.000000   \n",
      "50%              2024-01-16 00:00:00    4.500000  1400.000000   \n",
      "75%              2024-01-24 00:00:00    6.250000  1900.000000   \n",
      "max              2024-01-31 00:00:00    9.000000  2200.000000   \n",
      "std                              NaN    2.406321   292.549489   \n",
      "\n",
      "       best_rating_seconds  \n",
      "count           480.000000  \n",
      "mean             99.609375  \n",
      "min              69.930000  \n",
      "25%              83.812500  \n",
      "50%              93.640000  \n",
      "75%             118.670000  \n",
      "max             152.280000  \n",
      "std              21.527170  \n"
     ]
    }
   ],
   "source": [
    "# Numeric features in race_details\n",
    "print(\"\\nRace Details - Numeric Features Summary:\")\n",
    "print(race_details.describe())"
   ]
  },
  {
   "cell_type": "code",
   "execution_count": 11,
   "metadata": {},
   "outputs": [
    {
     "data": {
      "image/png": "[encoded data removed]",
      "text/plain": [
       "<Figure size 800x400 with 1 Axes>"
      ]
     },
     "metadata": {},
     "output_type": "display_data"
    },
    {
     "data": {
      "image/png": "[encoded data removed]",
      "text/plain": [
       "<Figure size 800x400 with 1 Axes>"
      ]
     },
     "metadata": {},
     "output_type": "display_data"
    },
    {
     "data": {
      "image/png": "[encoded data removed]",
      "text/plain": [
       "<Figure size 800x400 with 1 Axes>"
      ]
     },
     "metadata": {},
     "output_type": "display_data"
    }
   ],
   "source": [
    "# Similarly for race_details\n",
    "numeric_cols_details = race_details.select_dtypes(include=[np.number]).columns.tolist()\n",
    "\n",
    "for col in numeric_cols_details:\n",
    "    plt.figure(figsize=(8, 4))\n",
    "    sns.boxplot(x=race_details[col])\n",
    "    plt.title(f'Boxplot of {col} in Race Details')\n",
    "    plt.show()"
   ]
  },
  {
   "cell_type": "code",
   "execution_count": 12,
   "metadata": {},
   "outputs": [
    {
     "data": {
      "text/html": [
       "<div>\n",
       "<style scoped>\n",
       "    .dataframe tbody tr th:only-of-type {\n",
       "        vertical-align: middle;\n",
       "    }\n",
       "\n",
       "    .dataframe tbody tr th {\n",
       "        vertical-align: top;\n",
       "    }\n",
       "\n",
       "    .dataframe thead th {\n",
       "        text-align: right;\n",
       "    }\n",
       "</style>\n",
       "<table border=\"1\" class=\"dataframe\">\n",
       "  <thead>\n",
       "    <tr style=\"text-align: right;\">\n",
       "      <th></th>\n",
       "      <th>race_date</th>\n",
       "      <th>race_city</th>\n",
       "      <th>race_no</th>\n",
       "      <th>race_type</th>\n",
       "      <th>race_sex_group</th>\n",
       "      <th>race_age_group</th>\n",
       "      <th>race_race_group</th>\n",
       "      <th>race_length</th>\n",
       "      <th>race_track_type</th>\n",
       "      <th>race_track_condition</th>\n",
       "      <th>best_rating</th>\n",
       "      <th>best_rating_seconds</th>\n",
       "    </tr>\n",
       "  </thead>\n",
       "  <tbody>\n",
       "    <tr>\n",
       "      <th>0</th>\n",
       "      <td>2024-01-01</td>\n",
       "      <td>bursa</td>\n",
       "      <td>1</td>\n",
       "      <td>condition 2</td>\n",
       "      <td>undefined</td>\n",
       "      <td>3 years old</td>\n",
       "      <td>english</td>\n",
       "      <td>1400</td>\n",
       "      <td>dirt</td>\n",
       "      <td>good going</td>\n",
       "      <td>1.24.50</td>\n",
       "      <td>84.50</td>\n",
       "    </tr>\n",
       "    <tr>\n",
       "      <th>1</th>\n",
       "      <td>2024-01-01</td>\n",
       "      <td>bursa</td>\n",
       "      <td>2</td>\n",
       "      <td>maiden</td>\n",
       "      <td>undefined</td>\n",
       "      <td>4 years old</td>\n",
       "      <td>arabian</td>\n",
       "      <td>1400</td>\n",
       "      <td>dirt</td>\n",
       "      <td>good going</td>\n",
       "      <td>1.33.63</td>\n",
       "      <td>93.63</td>\n",
       "    </tr>\n",
       "    <tr>\n",
       "      <th>2</th>\n",
       "      <td>2024-01-01</td>\n",
       "      <td>bursa</td>\n",
       "      <td>3</td>\n",
       "      <td>condition 3</td>\n",
       "      <td>female</td>\n",
       "      <td>3 years old</td>\n",
       "      <td>english</td>\n",
       "      <td>1200</td>\n",
       "      <td>dirt</td>\n",
       "      <td>good going</td>\n",
       "      <td>1.11.37</td>\n",
       "      <td>71.37</td>\n",
       "    </tr>\n",
       "    <tr>\n",
       "      <th>3</th>\n",
       "      <td>2024-01-01</td>\n",
       "      <td>bursa</td>\n",
       "      <td>4</td>\n",
       "      <td>condition 4</td>\n",
       "      <td>undefined</td>\n",
       "      <td>4 years old and up</td>\n",
       "      <td>arabian</td>\n",
       "      <td>2000</td>\n",
       "      <td>dirt</td>\n",
       "      <td>good going</td>\n",
       "      <td>2.18.40</td>\n",
       "      <td>138.40</td>\n",
       "    </tr>\n",
       "    <tr>\n",
       "      <th>4</th>\n",
       "      <td>2024-01-01</td>\n",
       "      <td>bursa</td>\n",
       "      <td>5</td>\n",
       "      <td>handicap 15</td>\n",
       "      <td>undefined</td>\n",
       "      <td>4 years old and up</td>\n",
       "      <td>english</td>\n",
       "      <td>1300</td>\n",
       "      <td>dirt</td>\n",
       "      <td>good going</td>\n",
       "      <td>1.18.11</td>\n",
       "      <td>78.11</td>\n",
       "    </tr>\n",
       "    <tr>\n",
       "      <th>5</th>\n",
       "      <td>2024-01-01</td>\n",
       "      <td>bursa</td>\n",
       "      <td>6</td>\n",
       "      <td>condition 3</td>\n",
       "      <td>undefined</td>\n",
       "      <td>4 years old and up</td>\n",
       "      <td>english</td>\n",
       "      <td>1400</td>\n",
       "      <td>dirt</td>\n",
       "      <td>good going</td>\n",
       "      <td>1.24.50</td>\n",
       "      <td>84.50</td>\n",
       "    </tr>\n",
       "    <tr>\n",
       "      <th>6</th>\n",
       "      <td>2024-01-01</td>\n",
       "      <td>bursa</td>\n",
       "      <td>7</td>\n",
       "      <td>maiden</td>\n",
       "      <td>undefined</td>\n",
       "      <td>4 years old</td>\n",
       "      <td>arabian</td>\n",
       "      <td>1400</td>\n",
       "      <td>dirt</td>\n",
       "      <td>good going</td>\n",
       "      <td>1.33.63</td>\n",
       "      <td>93.63</td>\n",
       "    </tr>\n",
       "    <tr>\n",
       "      <th>7</th>\n",
       "      <td>2024-01-01</td>\n",
       "      <td>bursa</td>\n",
       "      <td>8</td>\n",
       "      <td>condition-6</td>\n",
       "      <td>female</td>\n",
       "      <td>4 years old and up</td>\n",
       "      <td>english</td>\n",
       "      <td>1300</td>\n",
       "      <td>dirt</td>\n",
       "      <td>good going</td>\n",
       "      <td>1.18.11</td>\n",
       "      <td>78.11</td>\n",
       "    </tr>\n",
       "    <tr>\n",
       "      <th>8</th>\n",
       "      <td>2024-01-01</td>\n",
       "      <td>bursa</td>\n",
       "      <td>9</td>\n",
       "      <td>handicap 14</td>\n",
       "      <td>female</td>\n",
       "      <td>4 years old and up</td>\n",
       "      <td>arabian</td>\n",
       "      <td>1800</td>\n",
       "      <td>dirt</td>\n",
       "      <td>good going</td>\n",
       "      <td>2.03.83</td>\n",
       "      <td>123.83</td>\n",
       "    </tr>\n",
       "    <tr>\n",
       "      <th>9</th>\n",
       "      <td>2024-01-02</td>\n",
       "      <td>adana</td>\n",
       "      <td>1</td>\n",
       "      <td>condition 5</td>\n",
       "      <td>female</td>\n",
       "      <td>4 years old</td>\n",
       "      <td>arabian</td>\n",
       "      <td>1400</td>\n",
       "      <td>dirt</td>\n",
       "      <td>good going</td>\n",
       "      <td>1.34.68</td>\n",
       "      <td>94.68</td>\n",
       "    </tr>\n",
       "  </tbody>\n",
       "</table>\n",
       "</div>"
      ],
      "text/plain": [
       "   race_date race_city  race_no    race_type race_sex_group  \\\n",
       "0 2024-01-01     bursa        1  condition 2      undefined   \n",
       "1 2024-01-01     bursa        2       maiden      undefined   \n",
       "2 2024-01-01     bursa        3  condition 3         female   \n",
       "3 2024-01-01     bursa        4  condition 4      undefined   \n",
       "4 2024-01-01     bursa        5  handicap 15      undefined   \n",
       "5 2024-01-01     bursa        6  condition 3      undefined   \n",
       "6 2024-01-01     bursa        7       maiden      undefined   \n",
       "7 2024-01-01     bursa        8  condition-6         female   \n",
       "8 2024-01-01     bursa        9  handicap 14         female   \n",
       "9 2024-01-02     adana        1  condition 5         female   \n",
       "\n",
       "       race_age_group race_race_group  race_length race_track_type  \\\n",
       "0         3 years old         english         1400            dirt   \n",
       "1         4 years old         arabian         1400            dirt   \n",
       "2         3 years old         english         1200            dirt   \n",
       "3  4 years old and up         arabian         2000            dirt   \n",
       "4  4 years old and up         english         1300            dirt   \n",
       "5  4 years old and up         english         1400            dirt   \n",
       "6         4 years old         arabian         1400            dirt   \n",
       "7  4 years old and up         english         1300            dirt   \n",
       "8  4 years old and up         arabian         1800            dirt   \n",
       "9         4 years old         arabian         1400            dirt   \n",
       "\n",
       "  race_track_condition best_rating  best_rating_seconds  \n",
       "0           good going     1.24.50                84.50  \n",
       "1           good going     1.33.63                93.63  \n",
       "2           good going     1.11.37                71.37  \n",
       "3           good going     2.18.40               138.40  \n",
       "4           good going     1.18.11                78.11  \n",
       "5           good going     1.24.50                84.50  \n",
       "6           good going     1.33.63                93.63  \n",
       "7           good going     1.18.11                78.11  \n",
       "8           good going     2.03.83               123.83  \n",
       "9           good going     1.34.68                94.68  "
      ]
     },
     "execution_count": 12,
     "metadata": {},
     "output_type": "execute_result"
    }
   ],
   "source": [
    "race_details.head(10)"
   ]
  },
  {
   "cell_type": "code",
   "execution_count": 13,
   "metadata": {},
   "outputs": [],
   "source": [
    "# Save the cleaned data to a CSV file\n",
    "race_details.to_csv('cleaned_race_details.csv', index=False)"
   ]
  },
  {
   "cell_type": "markdown",
   "metadata": {},
   "source": [
    "# Now let's investigate the Race Results dataset"
   ]
  },
  {
   "cell_type": "code",
   "execution_count": 14,
   "metadata": {},
   "outputs": [
    {
     "data": {
      "text/html": [
       "<div>\n",
       "<style scoped>\n",
       "    .dataframe tbody tr th:only-of-type {\n",
       "        vertical-align: middle;\n",
       "    }\n",
       "\n",
       "    .dataframe tbody tr th {\n",
       "        vertical-align: top;\n",
       "    }\n",
       "\n",
       "    .dataframe thead th {\n",
       "        text-align: right;\n",
       "    }\n",
       "</style>\n",
       "<table border=\"1\" class=\"dataframe\">\n",
       "  <thead>\n",
       "    <tr style=\"text-align: right;\">\n",
       "      <th></th>\n",
       "      <th>race_date</th>\n",
       "      <th>race_city</th>\n",
       "      <th>race_no</th>\n",
       "      <th>result</th>\n",
       "      <th>horse_name</th>\n",
       "      <th>horse_accessories</th>\n",
       "      <th>horse_age</th>\n",
       "      <th>horse_sex</th>\n",
       "      <th>horse_origin</th>\n",
       "      <th>horse_sire</th>\n",
       "      <th>...</th>\n",
       "      <th>horse_owner</th>\n",
       "      <th>horse_trainer</th>\n",
       "      <th>horse_race_degree</th>\n",
       "      <th>horse_win_value</th>\n",
       "      <th>horse_psf_rate</th>\n",
       "      <th>horse_psf_rank</th>\n",
       "      <th>Horse_starting_box_no</th>\n",
       "      <th>horse_margin</th>\n",
       "      <th>horse_late_start</th>\n",
       "      <th>horse_rate</th>\n",
       "    </tr>\n",
       "  </thead>\n",
       "  <tbody>\n",
       "    <tr>\n",
       "      <th>0</th>\n",
       "      <td>2024-01-01</td>\n",
       "      <td>Bursa</td>\n",
       "      <td>1</td>\n",
       "      <td>1</td>\n",
       "      <td>MY REVERIE</td>\n",
       "      <td>KG K DB</td>\n",
       "      <td>3y</td>\n",
       "      <td>f</td>\n",
       "      <td>BLUEGRASS CAT (USA)- LEGALLY INCLUDED (USA) / ...</td>\n",
       "      <td>BLUEGRASS CAT (USA)</td>\n",
       "      <td>...</td>\n",
       "      <td>NİMET ARİF KURTEL</td>\n",
       "      <td>TAMER TURAN</td>\n",
       "      <td>1.31.26</td>\n",
       "      <td>1.50</td>\n",
       "      <td>49</td>\n",
       "      <td>1</td>\n",
       "      <td>1</td>\n",
       "      <td>9 Lengths</td>\n",
       "      <td>NaN</td>\n",
       "      <td>42</td>\n",
       "    </tr>\n",
       "    <tr>\n",
       "      <th>1</th>\n",
       "      <td>2024-01-01</td>\n",
       "      <td>Bursa</td>\n",
       "      <td>1</td>\n",
       "      <td>2</td>\n",
       "      <td>NOBLE WOMAN</td>\n",
       "      <td>KG DB SK</td>\n",
       "      <td>3y</td>\n",
       "      <td>f</td>\n",
       "      <td>SCARFACE- PROVIDENCE / SRI PEKAN (USA)</td>\n",
       "      <td>SCARFACE</td>\n",
       "      <td>...</td>\n",
       "      <td>AHMET KURT</td>\n",
       "      <td>TUNCAY PELEN</td>\n",
       "      <td>1.33.05</td>\n",
       "      <td>3.75</td>\n",
       "      <td>20</td>\n",
       "      <td>2</td>\n",
       "      <td>4</td>\n",
       "      <td>Half Lengths</td>\n",
       "      <td>NaN</td>\n",
       "      <td>43</td>\n",
       "    </tr>\n",
       "    <tr>\n",
       "      <th>2</th>\n",
       "      <td>2024-01-01</td>\n",
       "      <td>Bursa</td>\n",
       "      <td>1</td>\n",
       "      <td>3</td>\n",
       "      <td>ÇİSEM SULTAN</td>\n",
       "      <td>KG K DB SGKR</td>\n",
       "      <td>3y</td>\n",
       "      <td>f</td>\n",
       "      <td>SMART ROBIN (JPN)- SNOOZY TIMES / ROYAL ABJAR ...</td>\n",
       "      <td>SMART ROBIN (JPN)</td>\n",
       "      <td>...</td>\n",
       "      <td>BÜLENT BAYBURAN</td>\n",
       "      <td>KAZIM ŞENGEL</td>\n",
       "      <td>1.33.17</td>\n",
       "      <td>28.70</td>\n",
       "      <td>3</td>\n",
       "      <td>6</td>\n",
       "      <td>3</td>\n",
       "      <td>3 Lengths</td>\n",
       "      <td>NaN</td>\n",
       "      <td>33</td>\n",
       "    </tr>\n",
       "    <tr>\n",
       "      <th>3</th>\n",
       "      <td>2024-01-01</td>\n",
       "      <td>Bursa</td>\n",
       "      <td>1</td>\n",
       "      <td>4</td>\n",
       "      <td>OKYANUS GÜZELİ</td>\n",
       "      <td>SKG SK</td>\n",
       "      <td>3y</td>\n",
       "      <td>f</td>\n",
       "      <td>SIDNEY'S CANDY (USA)- NURSENA / SCARFACE</td>\n",
       "      <td>SIDNEY'S CANDY (USA)</td>\n",
       "      <td>...</td>\n",
       "      <td>DİLEK ÖKTEN</td>\n",
       "      <td>ALİ RIZA AYDIN</td>\n",
       "      <td>1.33.65</td>\n",
       "      <td>14.85</td>\n",
       "      <td>3</td>\n",
       "      <td>5</td>\n",
       "      <td>6</td>\n",
       "      <td>4 Lengths</td>\n",
       "      <td>NaN</td>\n",
       "      <td>39</td>\n",
       "    </tr>\n",
       "    <tr>\n",
       "      <th>4</th>\n",
       "      <td>2024-01-01</td>\n",
       "      <td>Bursa</td>\n",
       "      <td>1</td>\n",
       "      <td>5</td>\n",
       "      <td>MOUNTAIN LION</td>\n",
       "      <td>DB SK</td>\n",
       "      <td>3y</td>\n",
       "      <td>m</td>\n",
       "      <td>LION HEART (USA)- SAN MARINO / SRI PEKAN (USA)</td>\n",
       "      <td>LION HEART (USA)</td>\n",
       "      <td>...</td>\n",
       "      <td>SEMİH KATI</td>\n",
       "      <td>MURAT TÜRKOĞLU</td>\n",
       "      <td>1.34.30</td>\n",
       "      <td>4.55</td>\n",
       "      <td>17</td>\n",
       "      <td>3</td>\n",
       "      <td>5</td>\n",
       "      <td>NaN</td>\n",
       "      <td>NaN</td>\n",
       "      <td>51</td>\n",
       "    </tr>\n",
       "    <tr>\n",
       "      <th>5</th>\n",
       "      <td>2024-01-01</td>\n",
       "      <td>Bursa</td>\n",
       "      <td>1</td>\n",
       "      <td>6</td>\n",
       "      <td>KING UĞUR</td>\n",
       "      <td>KG DB SK</td>\n",
       "      <td>3y</td>\n",
       "      <td>m</td>\n",
       "      <td>PIANO SONATA- DOLPHINE / DOMINO EFFECT</td>\n",
       "      <td>PIANO SONATA</td>\n",
       "      <td>...</td>\n",
       "      <td>ALİ OSMAN ARSLAN</td>\n",
       "      <td>SEDAT KOÇAK</td>\n",
       "      <td>1.37.55</td>\n",
       "      <td>9.90</td>\n",
       "      <td>7</td>\n",
       "      <td>4</td>\n",
       "      <td>2</td>\n",
       "      <td>NaN</td>\n",
       "      <td>NaN</td>\n",
       "      <td>42</td>\n",
       "    </tr>\n",
       "    <tr>\n",
       "      <th>6</th>\n",
       "      <td>2024-01-01</td>\n",
       "      <td>Bursa</td>\n",
       "      <td>2</td>\n",
       "      <td>1</td>\n",
       "      <td>ÇELİK EFE</td>\n",
       "      <td>K DB</td>\n",
       "      <td>4y</td>\n",
       "      <td>m</td>\n",
       "      <td>JOKER- GÜLŞİRİN / SAĞANAK</td>\n",
       "      <td>JOKER</td>\n",
       "      <td>...</td>\n",
       "      <td>İBRAHİM ÇELİK</td>\n",
       "      <td>KADİR TURAN</td>\n",
       "      <td>1.42.45</td>\n",
       "      <td>6.35</td>\n",
       "      <td>16</td>\n",
       "      <td>3</td>\n",
       "      <td>5</td>\n",
       "      <td>3 Lengths</td>\n",
       "      <td>NaN</td>\n",
       "      <td>27</td>\n",
       "    </tr>\n",
       "    <tr>\n",
       "      <th>7</th>\n",
       "      <td>2024-01-01</td>\n",
       "      <td>Bursa</td>\n",
       "      <td>2</td>\n",
       "      <td>2</td>\n",
       "      <td>EYLÜLLİZE</td>\n",
       "      <td>KG K DB</td>\n",
       "      <td>4y</td>\n",
       "      <td>f</td>\n",
       "      <td>YAKUPBEY- AŞKANA / ODİNHAN</td>\n",
       "      <td>YAKUPBEY</td>\n",
       "      <td>...</td>\n",
       "      <td>İBRAHİM YÖNTEM</td>\n",
       "      <td>FERDİ KIRAN</td>\n",
       "      <td>1.43.00</td>\n",
       "      <td>17.50</td>\n",
       "      <td>3</td>\n",
       "      <td>7</td>\n",
       "      <td>7</td>\n",
       "      <td>3 Lengths</td>\n",
       "      <td>NaN</td>\n",
       "      <td>28</td>\n",
       "    </tr>\n",
       "    <tr>\n",
       "      <th>8</th>\n",
       "      <td>2024-01-01</td>\n",
       "      <td>Bursa</td>\n",
       "      <td>2</td>\n",
       "      <td>3</td>\n",
       "      <td>PARİS ÖZLEMİ</td>\n",
       "      <td>NaN</td>\n",
       "      <td>4y</td>\n",
       "      <td>f</td>\n",
       "      <td>SİLAH- PARİS / DEMİRKAZIK</td>\n",
       "      <td>SİLAH</td>\n",
       "      <td>...</td>\n",
       "      <td>MUHAMMET YAĞMURLU</td>\n",
       "      <td>EYLEM GÜN GÜNEŞ</td>\n",
       "      <td>1.43.56</td>\n",
       "      <td>21.95</td>\n",
       "      <td>2</td>\n",
       "      <td>6</td>\n",
       "      <td>8</td>\n",
       "      <td>1,5 Lengths</td>\n",
       "      <td>1,5 Lengths</td>\n",
       "      <td>0</td>\n",
       "    </tr>\n",
       "    <tr>\n",
       "      <th>9</th>\n",
       "      <td>2024-01-01</td>\n",
       "      <td>Bursa</td>\n",
       "      <td>2</td>\n",
       "      <td>4</td>\n",
       "      <td>HAS TARKAN</td>\n",
       "      <td>KG K</td>\n",
       "      <td>4y</td>\n",
       "      <td>m</td>\n",
       "      <td>BİLGİN- TACİSERİM / AYABAKAN</td>\n",
       "      <td>BİLGİN</td>\n",
       "      <td>...</td>\n",
       "      <td>HAKKI TARIK DİKENCİK</td>\n",
       "      <td>MELEK ÖZGÜL</td>\n",
       "      <td>1.43.79</td>\n",
       "      <td>1.75</td>\n",
       "      <td>34</td>\n",
       "      <td>1</td>\n",
       "      <td>4</td>\n",
       "      <td>Nose</td>\n",
       "      <td>NaN</td>\n",
       "      <td>33</td>\n",
       "    </tr>\n",
       "  </tbody>\n",
       "</table>\n",
       "<p>10 rows × 24 columns</p>\n",
       "</div>"
      ],
      "text/plain": [
       "    race_date race_city  race_no  result      horse_name horse_accessories  \\\n",
       "0  2024-01-01     Bursa        1       1      MY REVERIE           KG K DB   \n",
       "1  2024-01-01     Bursa        1       2     NOBLE WOMAN          KG DB SK   \n",
       "2  2024-01-01     Bursa        1       3    ÇİSEM SULTAN      KG K DB SGKR   \n",
       "3  2024-01-01     Bursa        1       4  OKYANUS GÜZELİ            SKG SK   \n",
       "4  2024-01-01     Bursa        1       5   MOUNTAIN LION             DB SK   \n",
       "5  2024-01-01     Bursa        1       6       KING UĞUR          KG DB SK   \n",
       "6  2024-01-01     Bursa        2       1       ÇELİK EFE              K DB   \n",
       "7  2024-01-01     Bursa        2       2       EYLÜLLİZE           KG K DB   \n",
       "8  2024-01-01     Bursa        2       3    PARİS ÖZLEMİ               NaN   \n",
       "9  2024-01-01     Bursa        2       4      HAS TARKAN              KG K   \n",
       "\n",
       "  horse_age horse_sex                                       horse_origin  \\\n",
       "0        3y         f  BLUEGRASS CAT (USA)- LEGALLY INCLUDED (USA) / ...   \n",
       "1        3y         f             SCARFACE- PROVIDENCE / SRI PEKAN (USA)   \n",
       "2        3y         f  SMART ROBIN (JPN)- SNOOZY TIMES / ROYAL ABJAR ...   \n",
       "3        3y         f           SIDNEY'S CANDY (USA)- NURSENA / SCARFACE   \n",
       "4        3y         m     LION HEART (USA)- SAN MARINO / SRI PEKAN (USA)   \n",
       "5        3y         m             PIANO SONATA- DOLPHINE / DOMINO EFFECT   \n",
       "6        4y         m                          JOKER- GÜLŞİRİN / SAĞANAK   \n",
       "7        4y         f                         YAKUPBEY- AŞKANA / ODİNHAN   \n",
       "8        4y         f                          SİLAH- PARİS / DEMİRKAZIK   \n",
       "9        4y         m                       BİLGİN- TACİSERİM / AYABAKAN   \n",
       "\n",
       "             horse_sire  ...           horse_owner    horse_trainer  \\\n",
       "0   BLUEGRASS CAT (USA)  ...     NİMET ARİF KURTEL      TAMER TURAN   \n",
       "1              SCARFACE  ...            AHMET KURT     TUNCAY PELEN   \n",
       "2     SMART ROBIN (JPN)  ...       BÜLENT BAYBURAN     KAZIM ŞENGEL   \n",
       "3  SIDNEY'S CANDY (USA)  ...           DİLEK ÖKTEN   ALİ RIZA AYDIN   \n",
       "4      LION HEART (USA)  ...            SEMİH KATI   MURAT TÜRKOĞLU   \n",
       "5          PIANO SONATA  ...      ALİ OSMAN ARSLAN      SEDAT KOÇAK   \n",
       "6                 JOKER  ...         İBRAHİM ÇELİK      KADİR TURAN   \n",
       "7              YAKUPBEY  ...        İBRAHİM YÖNTEM      FERDİ KIRAN   \n",
       "8                 SİLAH  ...     MUHAMMET YAĞMURLU  EYLEM GÜN GÜNEŞ   \n",
       "9                BİLGİN  ...  HAKKI TARIK DİKENCİK      MELEK ÖZGÜL   \n",
       "\n",
       "   horse_race_degree horse_win_value horse_psf_rate horse_psf_rank  \\\n",
       "0            1.31.26            1.50             49              1   \n",
       "1            1.33.05            3.75             20              2   \n",
       "2            1.33.17           28.70              3              6   \n",
       "3            1.33.65           14.85              3              5   \n",
       "4            1.34.30            4.55             17              3   \n",
       "5            1.37.55            9.90              7              4   \n",
       "6            1.42.45            6.35             16              3   \n",
       "7            1.43.00           17.50              3              7   \n",
       "8            1.43.56           21.95              2              6   \n",
       "9            1.43.79            1.75             34              1   \n",
       "\n",
       "  Horse_starting_box_no  horse_margin  horse_late_start  horse_rate  \n",
       "0                     1     9 Lengths               NaN          42  \n",
       "1                     4  Half Lengths               NaN          43  \n",
       "2                     3     3 Lengths               NaN          33  \n",
       "3                     6     4 Lengths               NaN          39  \n",
       "4                     5           NaN               NaN          51  \n",
       "5                     2           NaN               NaN          42  \n",
       "6                     5     3 Lengths               NaN          27  \n",
       "7                     7     3 Lengths               NaN          28  \n",
       "8                     8   1,5 Lengths       1,5 Lengths           0  \n",
       "9                     4          Nose               NaN          33  \n",
       "\n",
       "[10 rows x 24 columns]"
      ]
     },
     "execution_count": 14,
     "metadata": {},
     "output_type": "execute_result"
    }
   ],
   "source": [
    "race_results.head(10)"
   ]
  },
  {
   "cell_type": "code",
   "execution_count": 15,
   "metadata": {},
   "outputs": [
    {
     "name": "stdout",
     "output_type": "stream",
     "text": [
      "<class 'pandas.core.frame.DataFrame'>\n",
      "RangeIndex: 4283 entries, 0 to 4282\n",
      "Data columns (total 24 columns):\n",
      " #   Column                 Non-Null Count  Dtype  \n",
      "---  ------                 --------------  -----  \n",
      " 0   race_date              4283 non-null   object \n",
      " 1   race_city              4283 non-null   object \n",
      " 2   race_no                4283 non-null   int64  \n",
      " 3   result                 4283 non-null   int64  \n",
      " 4   horse_name             4283 non-null   object \n",
      " 5   horse_accessories      4169 non-null   object \n",
      " 6   horse_age              4283 non-null   object \n",
      " 7   horse_sex              4283 non-null   object \n",
      " 8   horse_origin           4283 non-null   object \n",
      " 9   horse_sire             4283 non-null   object \n",
      " 10  horse_dam              4283 non-null   object \n",
      " 11  hors_broodmare_sire    4283 non-null   object \n",
      " 12  jockey_weight          4283 non-null   int64  \n",
      " 13  jockey_name            4283 non-null   object \n",
      " 14  horse_owner            4283 non-null   object \n",
      " 15  horse_trainer          4258 non-null   object \n",
      " 16  horse_race_degree      4283 non-null   object \n",
      " 17  horse_win_value        4281 non-null   float64\n",
      " 18  horse_psf_rate         4283 non-null   int64  \n",
      " 19  horse_psf_rank         4283 non-null   int64  \n",
      " 20  Horse_starting_box_no  4283 non-null   int64  \n",
      " 21  horse_margin           1911 non-null   object \n",
      " 22  horse_late_start       494 non-null    object \n",
      " 23  horse_rate             4283 non-null   int64  \n",
      "dtypes: float64(1), int64(7), object(16)\n",
      "memory usage: 803.2+ KB\n",
      "None\n",
      "\n",
      "Number of Missing Values in Each Column:\n",
      "Percentage of Missing Values in Each Column:\n",
      "horse_late_start         88.466028\n",
      "horse_margin             55.381742\n",
      "horse_accessories         2.661686\n",
      "horse_trainer             0.583703\n",
      "horse_win_value           0.046696\n",
      "race_date                 0.000000\n",
      "jockey_name               0.000000\n",
      "Horse_starting_box_no     0.000000\n",
      "horse_psf_rank            0.000000\n",
      "horse_psf_rate            0.000000\n",
      "horse_race_degree         0.000000\n",
      "horse_owner               0.000000\n",
      "jockey_weight             0.000000\n",
      "race_city                 0.000000\n",
      "hors_broodmare_sire       0.000000\n",
      "horse_dam                 0.000000\n",
      "horse_sire                0.000000\n",
      "horse_origin              0.000000\n",
      "horse_sex                 0.000000\n",
      "horse_age                 0.000000\n",
      "horse_name                0.000000\n",
      "result                    0.000000\n",
      "race_no                   0.000000\n",
      "horse_rate                0.000000\n",
      "dtype: float64\n"
     ]
    }
   ],
   "source": [
    "print(race_results.info())\n",
    "\n",
    "print(\"\\nNumber of Missing Values in Each Column:\")\n",
    "\n",
    "# Calculate the percentage of missing values\n",
    "missing_values_percentage = (race_results.isna().sum() / len(race_results)) * 100\n",
    "\n",
    "# Display missing values in descending order\n",
    "print(\"Percentage of Missing Values in Each Column:\")\n",
    "print(missing_values_percentage.sort_values(ascending=False))"
   ]
  },
  {
   "cell_type": "code",
   "execution_count": 16,
   "metadata": {},
   "outputs": [
    {
     "name": "stdout",
     "output_type": "stream",
     "text": [
      "\n",
      "Numerical Feature Summary:\n",
      "           race_no       result  jockey_weight  horse_win_value  \\\n",
      "count  4283.000000  4283.000000    4283.000000      4281.000000   \n",
      "mean      4.839832     5.440112      56.265001        18.019178   \n",
      "std       2.469058     3.340318       2.639310        21.335460   \n",
      "min       1.000000     0.000000      48.000000         1.050000   \n",
      "25%       3.000000     3.000000      55.000000         4.850000   \n",
      "50%       5.000000     5.000000      56.000000        10.150000   \n",
      "75%       7.000000     8.000000      58.000000        22.800000   \n",
      "max       9.000000    18.000000      63.000000       185.600000   \n",
      "\n",
      "       horse_psf_rate  horse_psf_rank  Horse_starting_box_no   horse_rate  \n",
      "count     4283.000000     4283.000000            4283.000000  4283.000000  \n",
      "mean        10.183049        5.000000               5.528134    44.649545  \n",
      "std         11.818558        3.449848               3.394825    24.384152  \n",
      "min          0.000000        0.000000               1.000000     0.000000  \n",
      "25%          2.000000        2.000000               3.000000    31.000000  \n",
      "50%          6.000000        5.000000               5.000000    42.000000  \n",
      "75%         14.000000        7.000000               8.000000    60.000000  \n",
      "max         85.000000       18.000000              18.000000   110.000000  \n"
     ]
    }
   ],
   "source": [
    "print(\"\\nNumerical Feature Summary:\")\n",
    "print(race_results.describe())"
   ]
  },
  {
   "cell_type": "code",
   "execution_count": 17,
   "metadata": {},
   "outputs": [],
   "source": [
    "# Drop 'horse_late_start' and 'horse_margin' columns\n",
    "race_results.drop(columns=['horse_late_start', 'horse_margin'], inplace=True)"
   ]
  },
  {
   "cell_type": "code",
   "execution_count": 18,
   "metadata": {},
   "outputs": [
    {
     "name": "stdout",
     "output_type": "stream",
     "text": [
      "horse_name    horse_accessories\n",
      "ABATHAN       DB                   2\n",
      "              DB SKG SK            1\n",
      "ABDÜLCANBAZ   KG DB SK             2\n",
      "ABHER         KG DB SK             1\n",
      "ABJARIN OĞLU  KG K DB              1\n",
      "                                  ..\n",
      "ŞİMŞEK İZİ    DB SK                1\n",
      "ŞİNTAY        KG SK                2\n",
      "ŞİRİN AZRA    K SKG SGKR           1\n",
      "ŞİRİN BALAM   KG K                 1\n",
      "ŞİRİN KAN     KG K                 2\n",
      "Name: count, Length: 2681, dtype: int64\n"
     ]
    }
   ],
   "source": [
    "horse_accessory_frequencies = race_results.groupby('horse_name')['horse_accessories'].value_counts()\n",
    "print(horse_accessory_frequencies)"
   ]
  },
  {
   "cell_type": "markdown",
   "metadata": {},
   "source": [
    "### Fill missing values in 'horse_accessories' with 'none' without inplace"
   ]
  },
  {
   "cell_type": "code",
   "execution_count": 19,
   "metadata": {},
   "outputs": [
    {
     "name": "stdout",
     "output_type": "stream",
     "text": [
      "0\n"
     ]
    }
   ],
   "source": [
    "# Fill missing values in 'horse_accessories' with 'none' without inplace\n",
    "race_results['horse_accessories'] = race_results['horse_accessories'].fillna('none')\n",
    "\n",
    "# Verify that there are no more missing values\n",
    "print(race_results['horse_accessories'].isna().sum())  # Should print 0"
   ]
  },
  {
   "cell_type": "code",
   "execution_count": 20,
   "metadata": {},
   "outputs": [
    {
     "name": "stdout",
     "output_type": "stream",
     "text": [
      "horse_trainer      0\n",
      "horse_win_value    0\n",
      "dtype: int64\n"
     ]
    }
   ],
   "source": [
    "# Drop rows with missing values in 'horse_trainer' and 'horse_win_value'\n",
    "race_results.dropna(subset=['horse_trainer', 'horse_win_value'], inplace=True)\n",
    "\n",
    "# Verify that the missing values are removed\n",
    "print(race_results[['horse_trainer', 'horse_win_value']].isna().sum())"
   ]
  },
  {
   "cell_type": "code",
   "execution_count": 21,
   "metadata": {},
   "outputs": [
    {
     "name": "stdout",
     "output_type": "stream",
     "text": [
      "Percentage of Missing Values in Each Column:\n",
      "race_date                0.0\n",
      "race_city                0.0\n",
      "Horse_starting_box_no    0.0\n",
      "horse_psf_rank           0.0\n",
      "horse_psf_rate           0.0\n",
      "horse_win_value          0.0\n",
      "horse_race_degree        0.0\n",
      "horse_trainer            0.0\n",
      "horse_owner              0.0\n",
      "jockey_name              0.0\n",
      "jockey_weight            0.0\n",
      "hors_broodmare_sire      0.0\n",
      "horse_dam                0.0\n",
      "horse_sire               0.0\n",
      "horse_origin             0.0\n",
      "horse_sex                0.0\n",
      "horse_age                0.0\n",
      "horse_accessories        0.0\n",
      "horse_name               0.0\n",
      "result                   0.0\n",
      "race_no                  0.0\n",
      "horse_rate               0.0\n",
      "dtype: float64\n"
     ]
    }
   ],
   "source": [
    "# Calculate the percentage of missing values\n",
    "missing_values_percentage = (race_results.isna().sum() / len(race_results)) * 100\n",
    "\n",
    "# Display missing values in descending order\n",
    "print(\"Percentage of Missing Values in Each Column:\")\n",
    "print(missing_values_percentage.sort_values(ascending=False))"
   ]
  },
  {
   "cell_type": "markdown",
   "metadata": {},
   "source": [
    "## We've now handled all missing data\n",
    "\n",
    "## Let's now check whether the data has any logical errors"
   ]
  },
  {
   "cell_type": "code",
   "execution_count": 22,
   "metadata": {},
   "outputs": [
    {
     "name": "stdout",
     "output_type": "stream",
     "text": [
      "<class 'pandas.core.frame.DataFrame'>\n",
      "Index: 4256 entries, 0 to 4282\n",
      "Data columns (total 22 columns):\n",
      " #   Column                 Non-Null Count  Dtype  \n",
      "---  ------                 --------------  -----  \n",
      " 0   race_date              4256 non-null   object \n",
      " 1   race_city              4256 non-null   object \n",
      " 2   race_no                4256 non-null   int64  \n",
      " 3   result                 4256 non-null   int64  \n",
      " 4   horse_name             4256 non-null   object \n",
      " 5   horse_accessories      4256 non-null   object \n",
      " 6   horse_age              4256 non-null   object \n",
      " 7   horse_sex              4256 non-null   object \n",
      " 8   horse_origin           4256 non-null   object \n",
      " 9   horse_sire             4256 non-null   object \n",
      " 10  horse_dam              4256 non-null   object \n",
      " 11  hors_broodmare_sire    4256 non-null   object \n",
      " 12  jockey_weight          4256 non-null   int64  \n",
      " 13  jockey_name            4256 non-null   object \n",
      " 14  horse_owner            4256 non-null   object \n",
      " 15  horse_trainer          4256 non-null   object \n",
      " 16  horse_race_degree      4256 non-null   object \n",
      " 17  horse_win_value        4256 non-null   float64\n",
      " 18  horse_psf_rate         4256 non-null   int64  \n",
      " 19  horse_psf_rank         4256 non-null   int64  \n",
      " 20  Horse_starting_box_no  4256 non-null   int64  \n",
      " 21  horse_rate             4256 non-null   int64  \n",
      "dtypes: float64(1), int64(7), object(14)\n",
      "memory usage: 764.8+ KB\n",
      "None\n"
     ]
    }
   ],
   "source": [
    "print(race_results.info())"
   ]
  },
  {
   "cell_type": "code",
   "execution_count": 23,
   "metadata": {},
   "outputs": [
    {
     "name": "stdout",
     "output_type": "stream",
     "text": [
      "datetime64[ns]\n"
     ]
    }
   ],
   "source": [
    "# Convert 'race_date' to datetime\n",
    "race_results['race_date'] = pd.to_datetime(race_results['race_date'], format='%Y-%m-%d')\n",
    "\n",
    "# Verify the conversion\n",
    "print(race_results['race_date'].dtype) "
   ]
  },
  {
   "cell_type": "code",
   "execution_count": 24,
   "metadata": {},
   "outputs": [
    {
     "name": "stdout",
     "output_type": "stream",
     "text": [
      "int64\n"
     ]
    }
   ],
   "source": [
    "# Function to extract numerical age from strings like '3y'\n",
    "def extract_age(age_str):\n",
    "    try:\n",
    "        return int(age_str.rstrip('y'))\n",
    "    except:\n",
    "        return np.nan  # Handle unexpected formats\n",
    "\n",
    "# Apply the function to 'horse_age'\n",
    "race_results['horse_age'] = race_results['horse_age'].apply(extract_age)\n",
    "\n",
    "# Verify the conversion\n",
    "print(race_results['horse_age'].dtype) "
   ]
  },
  {
   "cell_type": "code",
   "execution_count": 25,
   "metadata": {},
   "outputs": [
    {
     "name": "stdout",
     "output_type": "stream",
     "text": [
      "  horse_race_degree  horse_race_degree_seconds\n",
      "0           1.31.26                      91.26\n",
      "1           1.33.05                      93.05\n",
      "2           1.33.17                      93.17\n",
      "3           1.33.65                      93.65\n",
      "4           1.34.30                      94.30\n"
     ]
    }
   ],
   "source": [
    "# Function to convert 'horse_race_degree' to total seconds\n",
    "def time_to_seconds(time_str):\n",
    "    try:\n",
    "        minutes, seconds, hundredths = map(int, time_str.split('.'))\n",
    "        return minutes * 60 + seconds + hundredths / 100\n",
    "    except:\n",
    "        return np.nan  # Handle unexpected formats\n",
    "\n",
    "# Apply the function to 'horse_race_degree'\n",
    "race_results['horse_race_degree_seconds'] = race_results['horse_race_degree'].apply(time_to_seconds)\n",
    "\n",
    "# Verify the conversion\n",
    "print(race_results[['horse_race_degree', 'horse_race_degree_seconds']].head())"
   ]
  },
  {
   "cell_type": "code",
   "execution_count": 26,
   "metadata": {},
   "outputs": [],
   "source": [
    "race_results.drop('horse_race_degree', axis=1, inplace=True)"
   ]
  },
  {
   "cell_type": "code",
   "execution_count": 27,
   "metadata": {},
   "outputs": [
    {
     "name": "stdout",
     "output_type": "stream",
     "text": [
      "<class 'pandas.core.frame.DataFrame'>\n",
      "Index: 4256 entries, 0 to 4282\n",
      "Data columns (total 22 columns):\n",
      " #   Column                     Non-Null Count  Dtype         \n",
      "---  ------                     --------------  -----         \n",
      " 0   race_date                  4256 non-null   datetime64[ns]\n",
      " 1   race_city                  4256 non-null   object        \n",
      " 2   race_no                    4256 non-null   int64         \n",
      " 3   result                     4256 non-null   int64         \n",
      " 4   horse_name                 4256 non-null   object        \n",
      " 5   horse_accessories          4256 non-null   object        \n",
      " 6   horse_age                  4256 non-null   int64         \n",
      " 7   horse_sex                  4256 non-null   object        \n",
      " 8   horse_origin               4256 non-null   object        \n",
      " 9   horse_sire                 4256 non-null   object        \n",
      " 10  horse_dam                  4256 non-null   object        \n",
      " 11  hors_broodmare_sire        4256 non-null   object        \n",
      " 12  jockey_weight              4256 non-null   int64         \n",
      " 13  jockey_name                4256 non-null   object        \n",
      " 14  horse_owner                4256 non-null   object        \n",
      " 15  horse_trainer              4256 non-null   object        \n",
      " 16  horse_win_value            4256 non-null   float64       \n",
      " 17  horse_psf_rate             4256 non-null   int64         \n",
      " 18  horse_psf_rank             4256 non-null   int64         \n",
      " 19  Horse_starting_box_no      4256 non-null   int64         \n",
      " 20  horse_rate                 4256 non-null   int64         \n",
      " 21  horse_race_degree_seconds  4207 non-null   float64       \n",
      "dtypes: datetime64[ns](1), float64(2), int64(8), object(11)\n",
      "memory usage: 764.8+ KB\n",
      "None\n"
     ]
    }
   ],
   "source": [
    "print(race_results.info())"
   ]
  },
  {
   "cell_type": "code",
   "execution_count": 28,
   "metadata": {},
   "outputs": [
    {
     "name": "stdout",
     "output_type": "stream",
     "text": [
      "0\n"
     ]
    }
   ],
   "source": [
    "# Drop rows where 'horse_race_degree_seconds' is null\n",
    "race_results.dropna(subset=['horse_race_degree_seconds'], inplace=True)\n",
    "\n",
    "# Verify that there are no more missing values in 'horse_race_degree_seconds'\n",
    "print(race_results['horse_race_degree_seconds'].isna().sum()) "
   ]
  },
  {
   "cell_type": "code",
   "execution_count": 29,
   "metadata": {},
   "outputs": [
    {
     "name": "stdout",
     "output_type": "stream",
     "text": [
      "\n",
      "Numerical Feature Summary:\n",
      "                        race_date      race_no       result    horse_age  \\\n",
      "count                        4207  4207.000000  4207.000000  4207.000000   \n",
      "mean   2024-01-17 00:57:09.712384     4.838365     5.379605     4.406465   \n",
      "min           2024-01-01 00:00:00     1.000000     1.000000     3.000000   \n",
      "25%           2024-01-10 00:00:00     3.000000     3.000000     3.000000   \n",
      "50%           2024-01-17 00:00:00     5.000000     5.000000     4.000000   \n",
      "75%           2024-01-24 00:00:00     7.000000     8.000000     5.000000   \n",
      "max           2024-01-31 00:00:00     9.000000    18.000000    11.000000   \n",
      "std                           NaN     2.467385     3.296664     1.454243   \n",
      "\n",
      "       jockey_weight  horse_win_value  horse_psf_rate  horse_psf_rank  \\\n",
      "count    4207.000000      4207.000000     4207.000000     4207.000000   \n",
      "mean       56.264559        17.896755       10.251248        4.973378   \n",
      "min        48.000000         1.050000        0.000000        0.000000   \n",
      "25%        55.000000         4.800000        2.000000        2.000000   \n",
      "50%        56.000000        10.050000        6.000000        5.000000   \n",
      "75%        58.000000        22.450000       14.000000        7.000000   \n",
      "max        63.000000       185.600000       85.000000       18.000000   \n",
      "std         2.636504        21.284192       11.859089        3.444106   \n",
      "\n",
      "       Horse_starting_box_no   horse_rate  horse_race_degree_seconds  \n",
      "count            4207.000000  4207.000000                4207.000000  \n",
      "mean                5.513905    44.759449                 107.784357  \n",
      "min                 1.000000     0.000000                  71.550000  \n",
      "25%                 3.000000    31.000000                  88.820000  \n",
      "50%                 5.000000    42.000000                 101.350000  \n",
      "75%                 8.000000    60.000000                 128.220000  \n",
      "max                18.000000   110.000000                 390.200000  \n",
      "std                 3.379153    24.321289                  23.992438  \n"
     ]
    }
   ],
   "source": [
    "print(\"\\nNumerical Feature Summary:\")\n",
    "print(race_results.describe())"
   ]
  },
  {
   "cell_type": "code",
   "execution_count": 30,
   "metadata": {},
   "outputs": [
    {
     "name": "stdout",
     "output_type": "stream",
     "text": [
      "Invalid horse_psf_rank values found:       race_date  race_city  race_no  result    horse_name horse_accessories  \\\n",
      "109  2024-01-02    Antalya        1       1        SEHHAR             KG DB   \n",
      "110  2024-01-02    Antalya        1       2       PAMUKÇU             KG SK   \n",
      "111  2024-01-02    Antalya        1       3     KAYAFATİH          KG DB SK   \n",
      "112  2024-01-02    Antalya        1       4  HİLAL ZAMANI              KG K   \n",
      "113  2024-01-02    Antalya        1       5   ÇAĞLAYANBEY      KG DB SK GKR   \n",
      "...         ...        ...      ...     ...           ...               ...   \n",
      "4202 2024-01-31  Şanlıurfa        2       4     HEDEFİGÖR             KG DB   \n",
      "4203 2024-01-31  Şanlıurfa        2       5    OĞLUMBENİM          KG SK ÖG   \n",
      "4204 2024-01-31  Şanlıurfa        2       6     İLKAYOĞLU             KG SK   \n",
      "4205 2024-01-31  Şanlıurfa        2       7       KURTOBA                DB   \n",
      "4206 2024-01-31  Şanlıurfa        2       8     TSARİGRAD          KG DB SK   \n",
      "\n",
      "      horse_age horse_sex                        horse_origin     horse_sire  \\\n",
      "109           4         m      TÜMÖZ BEY- GÜLBENCE / DEMİRKIR      TÜMÖZ BEY   \n",
      "110           4         f      GÜRGÖKÇE- SUEDA KIZIM / BİLGİN       GÜRGÖKÇE   \n",
      "111           4         m         KAYAYÜREKLİ- DESTENAZ / CAŞ    KAYAYÜREKLİ   \n",
      "112           4         m            YAKUPBEY- CEZA / YAVUZCA       YAKUPBEY   \n",
      "113           4         m     HABERKAN- PÜSKÜLLÜ / EMAEL (PL)       HABERKAN   \n",
      "...         ...       ...                                 ...            ...   \n",
      "4202          7         m  KAIZBERT (RU)- LEYLAK / DEMİRKAZIK  KAIZBERT (RU)   \n",
      "4203          6         m        UÇANBEY- MATRAKIZI / SAĞANAK        UÇANBEY   \n",
      "4204          7         m     YAVUZŞAH- İLKAYSULTAN / ANTEPLİ       YAVUZŞAH   \n",
      "4205          5         m    KAIZBERT (RU)- FİLFİL / KIRIMHAN  KAIZBERT (RU)   \n",
      "4206          8         m          GÖKMENBEY- FATOŞ / ODİNHAN      GÖKMENBEY   \n",
      "\n",
      "      ... jockey_weight         jockey_name       horse_owner  \\\n",
      "109   ...            54  MEHMET SALİH ÇELİK         ALİ ŞAHİN   \n",
      "110   ...            51          CEMAL PASO        BEŞİR KAYA   \n",
      "111   ...            54       GÖKHAN YILDIZ        AHMET KAYA   \n",
      "112   ...            54       MUSTAFA ÇİÇEK        BEŞİR KAYA   \n",
      "113   ...            55          SİNAN ÖZEN     ADİLE ERDOĞAN   \n",
      "...   ...           ...                 ...               ...   \n",
      "4202  ...            58   CUMALİ ARDA MAYDA       HALİL ASLAN   \n",
      "4203  ...            56      YUNUS ÇELİKBAŞ     NAİF KARAKEÇİ   \n",
      "4204  ...            55       LEVENT TAPTIK    EMRAH CANPOLAT   \n",
      "4205  ...            55      İZETTİN GÜREKE  NİHAT KARATOPRAK   \n",
      "4206  ...            55          MENNAN BAL     SİNAN KORKMAZ   \n",
      "\n",
      "         horse_trainer horse_win_value horse_psf_rate  horse_psf_rank  \\\n",
      "109         YUSUF UÇAR            1.40              0               0   \n",
      "110         HAMZA KAYA            5.35              0               0   \n",
      "111       MERT KORKMAZ            2.55              0               0   \n",
      "112         HAMZA KAYA            5.35              0               0   \n",
      "113       SALİH BAYDAN           23.05              0               0   \n",
      "...                ...             ...            ...             ...   \n",
      "4202    KADİR TAŞDEMİR           36.75              0               0   \n",
      "4203  ZEKERİYA AKDEMİR            7.05              0               0   \n",
      "4204  MEHMET ALİ SUBAY           20.95              0               0   \n",
      "4205  MEHMET ALİ ÇİÇEK           17.00              0               0   \n",
      "4206       OSMAN DEMİR           65.65              0               0   \n",
      "\n",
      "      Horse_starting_box_no  horse_rate  horse_race_degree_seconds  \n",
      "109                       1          68                      89.73  \n",
      "110                       2          55                      89.74  \n",
      "111                       5          75                      91.24  \n",
      "112                       3          67                      92.51  \n",
      "113                       4          34                      93.58  \n",
      "...                     ...         ...                        ...  \n",
      "4202                      4          54                     101.61  \n",
      "4203                      6          69                     102.16  \n",
      "4204                      7          68                     104.69  \n",
      "4205                      9          91                     104.86  \n",
      "4206                      8          64                     161.58  \n",
      "\n",
      "[290 rows x 22 columns]\n"
     ]
    }
   ],
   "source": [
    "# Check for negative values in 'horse_psf_rate' and invalid ranks in 'horse_psf_rank'\n",
    "invalid_psf_rate = race_results[race_results['horse_psf_rate'] < 0]\n",
    "invalid_psf_rank = race_results[race_results['horse_psf_rank'] < 1]\n",
    "if len(invalid_psf_rate) > 0:\n",
    "    print(f\"Invalid horse_psf_rate values found: {invalid_psf_rate}\")\n",
    "if len(invalid_psf_rank) > 0:\n",
    "    print(f\"Invalid horse_psf_rank values found: {invalid_psf_rank}\")\n"
   ]
  },
  {
   "cell_type": "code",
   "execution_count": 31,
   "metadata": {},
   "outputs": [],
   "source": [
    "# Drop the columns 'horse_psf_rate' and 'horse_psf_rank'\n",
    "race_results.drop(['horse_psf_rate', 'horse_psf_rank'], axis=1, inplace=True)"
   ]
  },
  {
   "cell_type": "code",
   "execution_count": 32,
   "metadata": {},
   "outputs": [
    {
     "name": "stdout",
     "output_type": "stream",
     "text": [
      "Unrealistically high horse_race_degree_seconds values found:       race_date race_city  race_no  result  horse_name horse_accessories  \\\n",
      "3119 2024-01-24  İstanbul        3       9  MEHMET BEY       KG K DB GKR   \n",
      "\n",
      "      horse_age horse_sex                     horse_origin     horse_sire  \\\n",
      "3119          4         m  KAIZBERT (RU)- ÖNDERTAÇ / YALAZ  KAIZBERT (RU)   \n",
      "\n",
      "     horse_dam hors_broodmare_sire  jockey_weight      jockey_name  \\\n",
      "3119  ÖNDERTAÇ               YALAZ             57  ALİ MEHDİ ALTIN   \n",
      "\n",
      "      horse_owner horse_trainer  horse_win_value  Horse_starting_box_no  \\\n",
      "3119  MUNİR GÖKÇE    ERKUT KOCA              8.6                      1   \n",
      "\n",
      "      horse_rate  horse_race_degree_seconds  \n",
      "3119          38                      390.2  \n"
     ]
    }
   ],
   "source": [
    "# Check for outliers in 'horse_race_degree_seconds'\n",
    "invalid_times = race_results[race_results['horse_race_degree_seconds'] > 200]  # Assuming a realistic upper limit of 200 seconds\n",
    "if len(invalid_times) > 0:\n",
    "    print(f\"Unrealistically high horse_race_degree_seconds values found: {invalid_times}\")\n"
   ]
  },
  {
   "cell_type": "code",
   "execution_count": 33,
   "metadata": {},
   "outputs": [],
   "source": [
    "# Remove rows with 'horse_race_degree_seconds' greater than 200\n",
    "race_results = race_results[race_results['horse_race_degree_seconds'] <= 200]"
   ]
  },
  {
   "cell_type": "code",
   "execution_count": 34,
   "metadata": {},
   "outputs": [
    {
     "name": "stdout",
     "output_type": "stream",
     "text": [
      "<class 'pandas.core.frame.DataFrame'>\n",
      "Index: 4206 entries, 0 to 4282\n",
      "Data columns (total 20 columns):\n",
      " #   Column                     Non-Null Count  Dtype         \n",
      "---  ------                     --------------  -----         \n",
      " 0   race_date                  4206 non-null   datetime64[ns]\n",
      " 1   race_city                  4206 non-null   object        \n",
      " 2   race_no                    4206 non-null   int64         \n",
      " 3   result                     4206 non-null   int64         \n",
      " 4   horse_name                 4206 non-null   object        \n",
      " 5   horse_accessories          4206 non-null   object        \n",
      " 6   horse_age                  4206 non-null   int64         \n",
      " 7   horse_sex                  4206 non-null   object        \n",
      " 8   horse_origin               4206 non-null   object        \n",
      " 9   horse_sire                 4206 non-null   object        \n",
      " 10  horse_dam                  4206 non-null   object        \n",
      " 11  hors_broodmare_sire        4206 non-null   object        \n",
      " 12  jockey_weight              4206 non-null   int64         \n",
      " 13  jockey_name                4206 non-null   object        \n",
      " 14  horse_owner                4206 non-null   object        \n",
      " 15  horse_trainer              4206 non-null   object        \n",
      " 16  horse_win_value            4206 non-null   float64       \n",
      " 17  Horse_starting_box_no      4206 non-null   int64         \n",
      " 18  horse_rate                 4206 non-null   int64         \n",
      " 19  horse_race_degree_seconds  4206 non-null   float64       \n",
      "dtypes: datetime64[ns](1), float64(2), int64(6), object(11)\n",
      "memory usage: 690.0+ KB\n",
      "None\n"
     ]
    }
   ],
   "source": [
    "print(race_results.info())"
   ]
  },
  {
   "cell_type": "code",
   "execution_count": 35,
   "metadata": {},
   "outputs": [],
   "source": [
    "# Define string columns to standardize\n",
    "string_cols = [\n",
    "    'horse_sex', 'jockey_name', 'horse_sire', 'horse_dam', 'horse_trainer'\n",
    "]\n",
    "\n",
    "# Apply standardization\n",
    "for col in string_cols:\n",
    "    if col in race_results.columns:\n",
    "        race_results[col] = race_results[col].str.lower().str.strip()"
   ]
  },
  {
   "cell_type": "code",
   "execution_count": 36,
   "metadata": {},
   "outputs": [],
   "source": [
    "# Save the cleaned data to a CSV file\n",
    "race_results.to_csv('cleaned_race_results.csv', index=False)"
   ]
  }
 ],
 "metadata": {
  "kernelspec": {
   "display_name": "datascience",
   "language": "python",
   "name": "python3"
  },
  "language_info": {
   "codemirror_mode": {
    "name": "ipython",
    "version": 3
   },
   "file_extension": ".py",
   "mimetype": "text/x-python",
   "name": "python",
   "nbconvert_exporter": "python",
   "pygments_lexer": "ipython3",
   "version": "3.10.12"
  }
 },
 "nbformat": 4,
 "nbformat_minor": 2
}
